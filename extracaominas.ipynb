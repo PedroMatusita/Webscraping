{
 "cells": [
  {
   "cell_type": "code",
   "execution_count": 5,
   "metadata": {},
   "outputs": [
    {
     "name": "stdout",
     "output_type": "stream",
     "text": [
      "['hypera', 'ache-rx', 'eurofarma-rx', 'ems-generico', 'sigma-pharma-rx', 'cimed', 'germed-generico', 'libbs', 'apsen', 'biolab-rx', 'supera', 'medley-genericos', 'momenta', 'farmoquimica', 'eurofarma-generico', 'myralis', 'abbott-rx', 'teuto-generico', 'ache-otc', 'sanofi-rx', 'cristalia/latinofarma', 'sanofi-otc', 'prati-donaduzzi-generico', 'torrent', 'legrand-generico', 'biolab-generico', 'uniao-quimica-similar', 'neo-quimica-generico', 'uniao-quimica-genom', 'pharlab', 'neo-quimica-similar', 'nova-quimica-generico', 'geolab-generico', 'gsk-otc', 'marjan', 'novartis-rx', 'zanphy', 'gsk-rx', 'uniao-quimica-generico', 'procter--gambl', 'biolab-avert-otc', 'merck-rx', 'alcon', 'biosintetica-generico', 'servier', 'allergan', 'teuto-similar', 'ems-similar', 'bayer-rx', 'globo-generico', 'cellera', 'astrazeneca', 'sandoz-generico', 'herbarium', 'divcom', 'airela', 'zodiac-adium', 'sankyo-pharma', 'ranbaxy', 'natulab', 'bayer-otc', 'takeda', 'legrand-rx', 'boehringer', 'sigma-pharma-otc', 'pfizer', 'hertz-p-2', 'hertz-p-1', 'arese', 'zambon', 'megalabs', 'aspen', 'massime', 'geolab', 'cifarma', 'viatris', 'biolab-avert-rx', 'lundbeck', 'jj-otc', 'galderma', 'cifarma-similar', 'chiesi---farmalab', 'althaia', 'belfar', 'torrent-generico', 'reckitt-benckiser-rb', 'janssen', 'medquimica', 'medquimica-generico', 'maxinutri', 'm-s-d', 'bausch--lomb', 'baldacci', 'pharmascience', 'grunenthal', 'gross', 'exeltis', 'abv', 'theraskin', 'novo-nordisk', 'biosintetica', 'vitamedic-generico', 'uniao-quimica', 'merck-generico', 'lilly', 'hebron/quesalon', 'gummy', 'delta', 'zydus-generico', 'besins', 'nikkho---zydus', 'multilab', 'leopharma', 'globo', 'eurofarma-otc', 'herbamed', 'diffucap-chemobras', 'catarinense', 'cristalia', 'bago', 'astellas', 'abbott-nutricional', 'ucb-biopharma', 'nativita-generico', 'medley-rx', 'm-s-d-organon', 'hisamitsu', 'roche', 'osorio-de-moraes', 'mundipharma', 'gsk-stiefel', 'farmax', 'weleda', 'valeant', 'prati-donaduzzi', 'boiron', 'waldemiro', 'vitafor', 'unichem', 'perrigo', 'natcofarma', 'moksha8', 'medicaldoctor', 'blau', 'arte-nativa', 'wyeth-rx', 'sandoz-rx', 'organon', 'novartis-generico', 'johnson--johnson-s/a', 'health-labs', 'glenmark', 'biolab-similar', 'vitamedic', 'teva', 'shire', 'nativita-similar', 'imec', 'farmace-generico', 'diversos-similares', 'cifarma-generico', 'caninha', 'bio-soft', 'vila-oliva', 'rioquimica', 'nova-quimica-similar', 'mylan', 'granado', 'glenmark-generico', 'germed-rx', 'genomma', 'farmabraz-beta-atalaia-ltda', 'eli-lilly', 'bunker', 'arovida', 'almaroni', 'a2f', 'vitamed', 'uniphar', 'trb', 'simoes', 'semina', 'sanitall', 'pronatus', 'philips-avente', 'oaz-fresh-care', 'novartis-otc', 'nestle-industrial', 'multilaser', 'minancora', 'melpoejo', 'melora', 'melcon', 'melatz', 'max-titanium', 'marjan-pbm', 'legrand-similar', 'latinofarma', 'labotrat', 'laboratorios-ferring', 'gsk-generico', 'griffus', 'global-gummies', 'equaliv', 'dux-nutrition', 'doctor-reddys', 'diversos-perfumaria', 'diversos-medicamentos', 'dermage', 'curatec', 'cheez-it', 'cellera-farma', 'cazi', 'carmen-vitti', 'brasterapica', 'aurobindo', 'aura', 'almeida-prado-ltda', 'abl-brasil', 'abbott', 'mais-medicamentos', 'vitaminas', 'similar', 'gripe-e-resfriado', 'analgésicos', 'calmantes', 'hipertensão', 'anticoncepcionais', 'anti-inflamatórios', 'alergias-e-infecções', 'fitoterápicos', 'colesterol-e-triglicerídeos', 'digestivo', 'genéricos', 'dor-e-febre', 'diabetes', 'relaxante-muscular', 'gastrite', 'emagrecedores', 'hypera', 'ache-rx', 'eurofarma-rx', 'ems-generico', 'sigma-pharma-rx', 'cimed', 'germed-generico', 'libbs', 'apsen', 'biolab-rx', 'supera', 'medley-genericos', 'momenta', 'farmoquimica', 'eurofarma-generico', 'myralis', 'abbott-rx', 'teuto-generico', 'ache-otc', 'sanofi-rx', 'cristalia/latinofarma', 'sanofi-otc', 'prati-donaduzzi-generico', 'torrent', 'legrand-generico', 'biolab-generico', 'uniao-quimica-similar', 'neo-quimica-generico', 'uniao-quimica-genom', 'pharlab', 'neo-quimica-similar', 'nova-quimica-generico', 'geolab-generico', 'gsk-otc', 'marjan', 'novartis-rx', 'zanphy', 'gsk-rx', 'uniao-quimica-generico', 'procter--gambl', 'biolab-avert-otc', 'merck-rx', 'alcon', 'biosintetica-generico', 'servier', 'allergan', 'teuto-similar', 'ems-similar', 'bayer-rx', 'globo-generico', 'cellera', 'astrazeneca', 'sandoz-generico', 'herbarium', 'divcom', 'airela', 'zodiac-adium', 'sankyo-pharma', 'ranbaxy', 'natulab', 'bayer-otc', 'takeda', 'legrand-rx', 'boehringer', 'sigma-pharma-otc', 'pfizer', 'hertz-p-2', 'hertz-p-1', 'arese', 'zambon', 'megalabs', 'aspen', 'massime', 'geolab', 'cifarma', 'viatris', 'biolab-avert-rx', 'lundbeck', 'jj-otc', 'galderma', 'cifarma-similar', 'chiesi---farmalab', 'althaia', 'belfar', 'torrent-generico', 'reckitt-benckiser-rb', 'janssen', 'medquimica', 'medquimica-generico', 'maxinutri', 'm-s-d', 'bausch--lomb', 'baldacci', 'pharmascience', 'grunenthal', 'gross', 'exeltis', 'abv', 'theraskin', 'novo-nordisk', 'biosintetica', 'vitamedic-generico', 'uniao-quimica', 'merck-generico', 'lilly', 'hebron/quesalon', 'gummy', 'delta', 'zydus-generico', 'besins', 'nikkho---zydus', 'multilab', 'leopharma', 'globo', 'eurofarma-otc', 'herbamed', 'diffucap-chemobras', 'catarinense', 'cristalia', 'bago', 'astellas', 'abbott-nutricional', 'ucb-biopharma', 'nativita-generico', 'medley-rx', 'm-s-d-organon', 'hisamitsu', 'roche', 'osorio-de-moraes', 'mundipharma', 'gsk-stiefel', 'farmax', 'weleda', 'valeant', 'prati-donaduzzi', 'boiron', 'waldemiro', 'vitafor', 'unichem', 'perrigo', 'natcofarma', 'moksha8', 'medicaldoctor', 'blau', 'arte-nativa', 'wyeth-rx', 'sandoz-rx', 'organon', 'novartis-generico', 'johnson--johnson-s/a', 'health-labs', 'glenmark', 'biolab-similar', 'vitamedic', 'teva', 'shire', 'nativita-similar', 'imec', 'farmace-generico', 'diversos-similares', 'cifarma-generico', 'caninha', 'bio-soft', 'vila-oliva', 'rioquimica', 'nova-quimica-similar', 'mylan', 'granado', 'glenmark-generico', 'germed-rx', 'genomma', 'farmabraz-beta-atalaia-ltda', 'eli-lilly', 'bunker', 'arovida', 'almaroni', 'a2f', 'vitamed', 'uniphar', 'trb', 'simoes', 'semina', 'sanitall', 'pronatus', 'philips-avente', 'oaz-fresh-care', 'novartis-otc', 'nestle-industrial', 'multilaser', 'minancora', 'melpoejo', 'melora', 'melcon', 'melatz', 'max-titanium', 'marjan-pbm', 'legrand-similar', 'latinofarma', 'labotrat', 'laboratorios-ferring', 'gsk-generico', 'griffus', 'global-gummies', 'equaliv', 'dux-nutrition', 'doctor-reddys', 'diversos-perfumaria', 'diversos-medicamentos', 'dermage', 'curatec', 'cheez-it', 'cellera-farma', 'cazi', 'carmen-vitti', 'brasterapica', 'aurobindo', 'aura', 'almeida-prado-ltda', 'abl-brasil', 'abbott']\n"
     ]
    }
   ],
   "source": [
    "from selenium import webdriver\n",
    "from selenium.webdriver.common.by import By\n",
    "from selenium.webdriver.support.ui import WebDriverWait\n",
    "from selenium.webdriver.support import expected_conditions as EC\n",
    "import requests\n",
    "from bs4 import BeautifulSoup\n",
    "import pandas as pd\n",
    "\n",
    "# Encontrar todas as marcas\n",
    "url = 'https://www.drogariasminasmais.com.br/medicamentos'\n",
    "response = requests.get(url)\n",
    "soup = BeautifulSoup(response.content, \"html.parser\")\n",
    "\n",
    "marcas = soup.find_all(\"label\", class_=\"vtex-checkbox__label w-100 c-on-base pointer\")\n",
    "marcas_corr = []\n",
    "for marca in marcas:\n",
    "    marcas_corr.append(str(marca).split('>')[1].split('<')[0])\n",
    "for i in range(len(marcas_corr)):\n",
    "    marcas_corr[i] = marcas_corr[i].lower().replace(\" \", '-')\n",
    "marcas_corr = marcas_corr[19:]\n",
    "\n",
    "print(marcas_corr)"
   ]
  },
  {
   "cell_type": "code",
   "execution_count": 8,
   "metadata": {},
   "outputs": [
    {
     "name": "stdout",
     "output_type": "stream",
     "text": [
      "['1234567890123', '9876543210987']\n"
     ]
    }
   ],
   "source": [
    "def extrair_eans(string):\n",
    "    eans = []  # Lista para armazenar os valores de EAN\n",
    "    \n",
    "    # Encontrar a posição da primeira ocorrência de '\"ean\"'\n",
    "    indice_ean = string.find('\"ean\"')\n",
    "    \n",
    "    # Enquanto houver ocorrências de '\"ean\"'\n",
    "    while indice_ean != -1:\n",
    "        # Pegar os 13 caracteres após a posição da ocorrência de '\"ean\"'\n",
    "        ean = string[indice_ean + len('\"ean\"')+2:indice_ean + len('\"ean\"')+2+13]\n",
    "        eans.append(ean)\n",
    "        \n",
    "        # Encontrar a próxima ocorrência de '\"ean\"' após a posição atual\n",
    "        indice_ean = string.find('\"ean\"', indice_ean + 1)\n",
    "    \n",
    "    return eans\n",
    "\n",
    "# Exemplo de uso\n",
    "texto = '... \"ean\":\"1234567890123\", \"ean\":\"9876543210987\", ...'\n",
    "print(extrair_eans(texto))  # Saída: ['1234567890123', '9876543210987']\n",
    "\n"
   ]
  },
  {
   "cell_type": "code",
   "execution_count": 9,
   "metadata": {},
   "outputs": [
    {
     "name": "stdout",
     "output_type": "stream",
     "text": [
      "['123', '45689']\n"
     ]
    }
   ],
   "source": [
    "# \"productReference\" = sku\n",
    "\n",
    "def extrair_product_references(string):\n",
    "    product_references = []  # Lista para armazenar os valores de productReference\n",
    "    \n",
    "    # Encontrar a posição da primeira ocorrência de '\"productReference\"'\n",
    "    indice_reference = string.find('\"productReference\"')\n",
    "    \n",
    "    # Enquanto houver ocorrências de '\"productReference\"'\n",
    "    while indice_reference != -1:\n",
    "        # Encontrar o índice do próximo caractere após a ocorrência de '\"productReference\"'\n",
    "        indice_inicio_valor = string.find(':', indice_reference) + 2\n",
    "        \n",
    "        # Encontrar o índice do próximo caractere não numérico após o início do valor\n",
    "        indice_fim_valor = indice_inicio_valor\n",
    "        while indice_fim_valor < len(string) and string[indice_fim_valor].isdigit():\n",
    "            indice_fim_valor += 1\n",
    "        \n",
    "        # Pegar o valor entre os índices de início e fim\n",
    "        product_reference = string[indice_inicio_valor:indice_fim_valor]\n",
    "        product_references.append(product_reference)\n",
    "        \n",
    "        # Encontrar a próxima ocorrência de '\"productReference\"' após a posição atual\n",
    "        indice_reference = string.find('\"productReference\"', indice_fim_valor)\n",
    "    \n",
    "    return product_references\n",
    "\n",
    "# Exemplo de uso\n",
    "texto = '... \"productReference\":\"123\", \"productReference\":\"45689\", ...'\n",
    "print(extrair_product_references(texto))  # Saída: ['123', '45689']\n",
    "\n",
    "#29595"
   ]
  },
  {
   "cell_type": "code",
   "execution_count": 10,
   "metadata": {},
   "outputs": [
    {
     "name": "stdout",
     "output_type": "stream",
     "text": [
      "['Produto A', 'Produto B']\n"
     ]
    }
   ],
   "source": [
    "def extrair_product_names(string):\n",
    "    product_names = []  # Lista para armazenar os valores de productName\n",
    "    \n",
    "    # Encontrar a posição da primeira ocorrência de '\"productName\":'\n",
    "    indice_name = string.find('\"productName\":')\n",
    "    \n",
    "    # Enquanto houver ocorrências de '\"productName\":'\n",
    "    while indice_name != -1:\n",
    "        # Encontrar o índice do próximo caractere após a ocorrência de '\"productName\":'\n",
    "        indice_inicio_nome = indice_name + len('\"productName\":') + 1\n",
    "        \n",
    "        # Encontrar o índice do próximo caractere que indica o final do nome\n",
    "        indice_fim_nome = string.find('\"', indice_inicio_nome)\n",
    "        \n",
    "        # Pegar o valor entre os índices de início e fim\n",
    "        product_name = string[indice_inicio_nome:indice_fim_nome]\n",
    "        product_names.append(product_name)\n",
    "        \n",
    "        # Encontrar a próxima ocorrência de '\"productName\":' após a posição atual\n",
    "        indice_name = string.find('\"productName\":', indice_fim_nome)\n",
    "    \n",
    "    return product_names\n",
    "\n",
    "# Exemplo de uso\n",
    "texto = '... \"productName\":\"Produto A\", \"productName\":\"Produto B\", ...'\n",
    "print(extrair_product_names(texto))  # Saída: ['Produto A', 'Produto B']\n"
   ]
  },
  {
   "cell_type": "code",
   "execution_count": 11,
   "metadata": {},
   "outputs": [
    {
     "name": "stdout",
     "output_type": "stream",
     "text": [
      "[10.5, 20.75]\n"
     ]
    }
   ],
   "source": [
    "def extrair_precos(string):\n",
    "    precos = []  # Lista para armazenar os valores de preço\n",
    "    \n",
    "    # Encontrar a posição da primeira ocorrência de '\"Price\":'\n",
    "    indice_preco = string.find('\"Price\":')\n",
    "    \n",
    "    # Enquanto houver ocorrências de '\"Price\":'\n",
    "    while indice_preco != -1:\n",
    "        # Encontrar o índice do próximo caractere após a ocorrência de '\"Price\":'\n",
    "        indice_inicio_preco = indice_preco + len('\"Price\":') + 0\n",
    "        \n",
    "        # Encontrar o índice do próximo caractere que indica o final do preço\n",
    "        indice_fim_preco = indice_inicio_preco\n",
    "        while string[indice_fim_preco].isdigit() or string[indice_fim_preco] == '.':\n",
    "            indice_fim_preco += 1\n",
    "        \n",
    "        # Pegar o valor entre os índices de início e fim\n",
    "        preco = string[indice_inicio_preco:indice_fim_preco]\n",
    "        precos.append(float(preco))\n",
    "        \n",
    "        # Encontrar a próxima ocorrência de '\"Price\":' após a posição atual\n",
    "        indice_preco = string.find('\"Price\":', indice_fim_preco)\n",
    "    \n",
    "    return precos\n",
    "\n",
    "# Exemplo de uso\n",
    "texto = '... \"Price\":10.5, \"Price\":20.75, ...'\n",
    "print(extrair_precos(texto))  # Saída: [10.5, 20.75]\n"
   ]
  },
  {
   "cell_type": "code",
   "execution_count": 12,
   "metadata": {},
   "outputs": [
    {
     "name": "stdout",
     "output_type": "stream",
     "text": [
      "https://www.drogariasminasmais.com.br/medicamentos/hypera?initialMap=c&initialQuery=medicamentos&map=category-1,brand&page=1\n",
      "[84.73, 64.59, 108.27, 54.71, 61.52, 97.15, 51.18, 59.73, 38.24, 10.57, 40.82, 22.01, 15.66, 54.99, 65.17]\n",
      "https://www.drogariasminasmais.com.br/medicamentos/ache-rx?initialMap=c&initialQuery=medicamentos&map=category-1,brand&page=1\n"
     ]
    },
    {
     "ename": "",
     "evalue": "",
     "output_type": "error",
     "traceback": [
      "\u001b[1;31mThe Kernel crashed while executing code in the current cell or a previous cell. \n",
      "\u001b[1;31mPlease review the code in the cell(s) to identify a possible cause of the failure. \n",
      "\u001b[1;31mClick <a href='https://aka.ms/vscodeJupyterKernelCrash'>here</a> for more info. \n",
      "\u001b[1;31mView Jupyter <a href='command:jupyter.viewOutput'>log</a> for further details."
     ]
    }
   ],
   "source": [
    "for marca in marcas_corr:\n",
    "    url = 'https://www.drogariasminasmais.com.br/medicamentos/'+marca+'?initialMap=c&initialQuery=medicamentos&map=category-1,brand&page=1'\n",
    "    print(url)\n",
    "\n",
    "    # fazendo a requisição com o site \n",
    "    requisicao = requests.get(url)\n",
    "\n",
    "    ean_lista = extrair_eans(requisicao.text)\n",
    "    sku_lista = extrair_product_references(requisicao.text)\n",
    "    nome_lista = extrair_product_names(requisicao.text)\n",
    "    preco_lista = extrair_precos(requisicao.text)\n",
    "\n",
    "    print(preco_lista)"
   ]
  },
  {
   "cell_type": "code",
   "execution_count": null,
   "metadata": {},
   "outputs": [],
   "source": []
  }
 ],
 "metadata": {
  "kernelspec": {
   "display_name": "base",
   "language": "python",
   "name": "python3"
  },
  "language_info": {
   "codemirror_mode": {
    "name": "ipython",
    "version": 3
   },
   "file_extension": ".py",
   "mimetype": "text/x-python",
   "name": "python",
   "nbconvert_exporter": "python",
   "pygments_lexer": "ipython3",
   "version": "3.9.12"
  }
 },
 "nbformat": 4,
 "nbformat_minor": 2
}
