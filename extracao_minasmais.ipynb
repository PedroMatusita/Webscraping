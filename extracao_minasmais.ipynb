{
 "cells": [
  {
   "cell_type": "code",
   "execution_count": 17,
   "metadata": {},
   "outputs": [
    {
     "name": "stdout",
     "output_type": "stream",
     "text": [
      "['disfunção-erétil', 'hypera', 'ache-rx', 'eurofarma-rx', 'ems-generico', 'sigma-pharma-rx', 'cimed', 'germed-generico', 'libbs', 'apsen', 'biolab-rx', 'supera', 'medley-genericos', 'momenta', 'farmoquimica', 'eurofarma-generico', 'myralis', 'abbott-rx', 'teuto-generico', 'ache-otc', 'sanofi-rx', 'cristalia/latinofarma', 'prati-donaduzzi-generico', 'torrent', 'sanofi-otc', 'uniao-quimica-similar', 'uniao-quimica-genom', 'legrand-generico', 'biolab-generico', 'neo-quimica-generico', 'pharlab', 'neo-quimica-similar', 'geolab-generico', 'nova-quimica-generico', 'gsk-otc', 'marjan', 'zanphy', 'novartis-rx', 'gsk-rx', 'uniao-quimica-generico', 'procter--gambl', 'biolab-avert-otc', 'merck-rx', 'alcon', 'servier', 'biosintetica-generico', 'allergan', 'teuto-similar', 'ems-similar', 'globo-generico', 'bayer-rx', 'cellera', 'astrazeneca', 'sandoz-generico', 'herbarium', 'ranbaxy', 'divcom', 'airela', 'zodiac-adium', 'sankyo-pharma', 'natulab', 'bayer-otc', 'boehringer', 'takeda', 'sigma-pharma-otc', 'legrand-rx', 'hertz-p-2', 'hertz-p-1', 'arese', 'zambon', 'pfizer', 'megalabs', 'geolab', 'aspen', 'massime', 'cifarma', 'viatris', 'biolab-avert-rx', 'lundbeck', 'jj-otc', 'galderma', 'cifarma-similar', 'chiesi---farmalab', 'althaia', 'belfar', 'reckitt-benckiser-rb', 'janssen', 'medquimica', 'medquimica-generico', 'm-s-d', 'gross', 'bausch--lomb', 'baldacci', 'torrent-generico', 'pharmascience', 'maxinutri', 'grunenthal', 'exeltis', 'abv', 'theraskin', 'novo-nordisk', 'biosintetica', 'vitamedic-generico', 'uniao-quimica', 'merck-generico', 'lilly', 'hebron/quesalon', 'gummy', 'delta', 'besins', 'zydus-generico', 'multilab', 'nikkho---zydus', 'leopharma', 'eurofarma-otc', 'globo', 'diffucap-chemobras', 'catarinense', 'medley-rx', 'herbamed', 'cristalia', 'bago', 'abbott-nutricional', 'ucb-biopharma', 'nativita-generico', 'm-s-d-organon', 'hisamitsu', 'astellas', 'roche', 'osorio-de-moraes', 'mundipharma', 'gsk-stiefel', 'farmax', 'weleda', 'valeant', 'prati-donaduzzi', 'boiron', 'waldemiro', 'vitafor', 'unichem', 'perrigo', 'natcofarma', 'moksha8', 'medicaldoctor', 'blau', 'arte-nativa', 'wyeth-rx', 'sandoz-rx', 'organon', 'novartis-generico', 'johnson--johnson-s/a', 'health-labs', 'glenmark', 'biolab-similar', 'vitamedic', 'teva', 'shire', 'nativita-similar', 'imec', 'farmace-generico', 'diversos-similares', 'cifarma-generico', 'caninha', 'bio-soft', 'vila-oliva', 'rioquimica', 'nova-quimica-similar', 'mylan', 'granado', 'glenmark-generico', 'germed-rx', 'genomma', 'farmabraz-beta-atalaia-ltda', 'eli-lilly', 'bunker', 'arovida', 'almaroni', 'a2f', 'vitamed', 'uniphar', 'trb', 'simoes', 'semina', 'sanitall', 'pronatus', 'philips-avente', 'oaz-fresh-care', 'novartis-otc', 'nestle-industrial', 'multilaser', 'minancora', 'melpoejo', 'melora', 'melcon', 'melatz', 'max-titanium', 'marjan-pbm', 'legrand-similar', 'latinofarma', 'laboratorios-ferring', 'gsk-generico', 'griffus', 'equaliv', 'dux-nutrition', 'doctor-reddys', 'diversos-perfumaria', 'diversos-medicamentos', 'dermage', 'curatec', 'cheez-it', 'cellera-farma', 'cazi', 'carmen-vitti', 'brasterapica', 'biomm', 'aurobindo', 'aura', 'almeida-prado-ltda', 'abl-brasil', 'abbott', '3b-industria', 'mais-medicamentos', 'vitaminas', 'similar', 'gripe-e-resfriado', 'analgésicos', 'calmantes', 'hipertensão', 'anticoncepcionais', 'anti-inflamatórios', 'fitoterápicos', 'alergias-e-infecções', 'colesterol-e-triglicerídeos', 'digestivo', 'genéricos', 'dor-e-febre', 'diabetes', 'relaxante-muscular', 'gastrite', 'emagrecedores', 'disfunção-erétil', 'hypera', 'ache-rx', 'eurofarma-rx', 'ems-generico', 'sigma-pharma-rx', 'cimed', 'germed-generico', 'libbs', 'apsen', 'biolab-rx', 'supera', 'medley-genericos', 'momenta', 'farmoquimica', 'eurofarma-generico', 'myralis', 'abbott-rx', 'teuto-generico', 'ache-otc', 'sanofi-rx', 'cristalia/latinofarma', 'prati-donaduzzi-generico', 'torrent', 'sanofi-otc', 'uniao-quimica-similar', 'uniao-quimica-genom', 'legrand-generico', 'biolab-generico', 'neo-quimica-generico', 'pharlab', 'neo-quimica-similar', 'geolab-generico', 'nova-quimica-generico', 'gsk-otc', 'marjan', 'zanphy', 'novartis-rx', 'gsk-rx', 'uniao-quimica-generico', 'procter--gambl', 'biolab-avert-otc', 'merck-rx', 'alcon', 'servier', 'biosintetica-generico', 'allergan', 'teuto-similar', 'ems-similar', 'globo-generico', 'bayer-rx', 'cellera', 'astrazeneca', 'sandoz-generico', 'herbarium', 'ranbaxy', 'divcom', 'airela', 'zodiac-adium', 'sankyo-pharma', 'natulab', 'bayer-otc', 'boehringer', 'takeda', 'sigma-pharma-otc', 'legrand-rx', 'hertz-p-2', 'hertz-p-1', 'arese', 'zambon', 'pfizer', 'megalabs', 'geolab', 'aspen', 'massime', 'cifarma', 'viatris', 'biolab-avert-rx', 'lundbeck', 'jj-otc', 'galderma', 'cifarma-similar', 'chiesi---farmalab', 'althaia', 'belfar', 'reckitt-benckiser-rb', 'janssen', 'medquimica', 'medquimica-generico', 'm-s-d', 'gross', 'bausch--lomb', 'baldacci', 'torrent-generico', 'pharmascience', 'maxinutri', 'grunenthal', 'exeltis', 'abv', 'theraskin', 'novo-nordisk', 'biosintetica', 'vitamedic-generico', 'uniao-quimica', 'merck-generico', 'lilly', 'hebron/quesalon', 'gummy', 'delta', 'besins', 'zydus-generico', 'multilab', 'nikkho---zydus', 'leopharma', 'eurofarma-otc', 'globo', 'diffucap-chemobras', 'catarinense', 'medley-rx', 'herbamed', 'cristalia', 'bago', 'abbott-nutricional', 'ucb-biopharma', 'nativita-generico', 'm-s-d-organon', 'hisamitsu', 'astellas', 'roche', 'osorio-de-moraes', 'mundipharma', 'gsk-stiefel', 'farmax', 'weleda', 'valeant', 'prati-donaduzzi', 'boiron', 'waldemiro', 'vitafor', 'unichem', 'perrigo', 'natcofarma', 'moksha8', 'medicaldoctor', 'blau', 'arte-nativa', 'wyeth-rx', 'sandoz-rx', 'organon', 'novartis-generico', 'johnson--johnson-s/a', 'health-labs', 'glenmark', 'biolab-similar', 'vitamedic', 'teva', 'shire', 'nativita-similar', 'imec', 'farmace-generico', 'diversos-similares', 'cifarma-generico', 'caninha', 'bio-soft', 'vila-oliva', 'rioquimica', 'nova-quimica-similar', 'mylan', 'granado', 'glenmark-generico', 'germed-rx', 'genomma', 'farmabraz-beta-atalaia-ltda', 'eli-lilly', 'bunker', 'arovida', 'almaroni', 'a2f', 'vitamed', 'uniphar', 'trb', 'simoes', 'semina', 'sanitall', 'pronatus', 'philips-avente', 'oaz-fresh-care', 'novartis-otc', 'nestle-industrial', 'multilaser', 'minancora', 'melpoejo', 'melora', 'melcon', 'melatz', 'max-titanium', 'marjan-pbm', 'legrand-similar', 'latinofarma', 'laboratorios-ferring', 'gsk-generico', 'griffus', 'equaliv', 'dux-nutrition', 'doctor-reddys', 'diversos-perfumaria', 'diversos-medicamentos', 'dermage', 'curatec', 'cheez-it', 'cellera-farma', 'cazi', 'carmen-vitti', 'brasterapica', 'biomm', 'aurobindo', 'aura', 'almeida-prado-ltda', 'abl-brasil', 'abbott', '3b-industria']\n"
     ]
    }
   ],
   "source": [
    "import requests\n",
    "from bs4 import BeautifulSoup\n",
    "import pandas as pd\n",
    "import math\n",
    "from concurrent.futures import ThreadPoolExecutor, as_completed\n",
    "\n",
    "# Encontrar todas as marcas\n",
    "url = 'https://www.drogariasminasmais.com.br/medicamentos'\n",
    "response = requests.get(url)\n",
    "soup = BeautifulSoup(response.content, \"html.parser\")\n",
    "\n",
    "marcas = soup.find_all(\"label\", class_=\"vtex-checkbox__label w-100 c-on-base pointer\")\n",
    "marcas_corr = []\n",
    "for marca in marcas:\n",
    "    marcas_corr.append(str(marca).split('>')[1].split('<')[0])\n",
    "for i in range(len(marcas_corr)):\n",
    "    marcas_corr[i] = marcas_corr[i].lower().replace(\" \", '-')\n",
    "marcas_corr = marcas_corr[19:]\n",
    "\n",
    "print(marcas_corr)"
   ]
  },
  {
   "cell_type": "code",
   "execution_count": 18,
   "metadata": {},
   "outputs": [
    {
     "name": "stdout",
     "output_type": "stream",
     "text": [
      "['Produto A', 'Produto B']\n",
      "['123', '45689']\n",
      "[10.5, 20.75]\n",
      "['1234567890123', '9876543210987']\n"
     ]
    }
   ],
   "source": [
    "def extrair_valores_por_chave(string, chave, categorico):\n",
    "    valores = []  # Lista para armazenar os valores encontrados\n",
    "    \n",
    "    # Encontrar a posição da primeira ocorrência da chave\n",
    "    indice_chave = string.find(f'\"{chave}\":')\n",
    "    \n",
    "    if categorico:\n",
    "        # Enquanto houver ocorrências da chave\n",
    "        while indice_chave != -1:\n",
    "            # Encontrar o índice do próximo caractere após a ocorrência da chave\n",
    "            indice_inicio_valor = indice_chave + len(f'\"{chave}\":') + 1\n",
    "            \n",
    "            # Encontrar o índice do próximo caractere que indica o final do valor\n",
    "            indice_fim_valor = string.find('\"', indice_inicio_valor)\n",
    "            \n",
    "            # Pegar o valor entre os índices de início e fim\n",
    "            valor = string[indice_inicio_valor:indice_fim_valor]\n",
    "            valores.append(valor)\n",
    "            \n",
    "            # Encontrar a próxima ocorrência da chave após a posição atual\n",
    "            indice_chave = string.find(f'\"{chave}\":', indice_fim_valor)\n",
    "        \n",
    "    \n",
    "    else:\n",
    "        while indice_chave != -1:\n",
    "                # Encontrar o índice do próximo caractere após a ocorrência de '\"Price\":'\n",
    "                indice_inicio_valor = indice_chave + len(f'\"{chave}\":')\n",
    "                \n",
    "                # Encontrar o índice do próximo caractere que indica o final do preço\n",
    "                indice_fim_valor = indice_inicio_valor\n",
    "                while string[indice_fim_valor].isdigit() or string[indice_fim_valor] == '.':\n",
    "                    indice_fim_valor += 1\n",
    "                \n",
    "                # Pegar o valor entre os índices de início e fim\n",
    "                valor = string[indice_inicio_valor:indice_fim_valor]\n",
    "                valores.append(float(valor))\n",
    "                \n",
    "                # Encontrar a próxima ocorrência de '\"Price\":' após a posição atual\n",
    "                indice_chave = string.find(f'\"{chave}\":', indice_fim_valor)\n",
    "            \n",
    "    return valores\n",
    "\n",
    "# Exemplo de uso\n",
    "texto = '... \"productName\":\"Produto A\", \"productName\":\"Produto B\", ...'\n",
    "chave = \"productName\"\n",
    "print(extrair_valores_por_chave(texto, chave, True))  # Saída: ['Produto A', 'Produto B']\n",
    "\n",
    "texto = '... \"productReference\":\"123\", \"productReference\":\"45689\", ...'\n",
    "chave = \"productReference\"\n",
    "print(extrair_valores_por_chave(texto, chave, True))  # Saída: ['123', '45689']\n",
    "\n",
    "texto = '... \"Price\":10.5, \"Price\":20.75, ...'\n",
    "print(extrair_valores_por_chave(texto,\"Price\", False))  # Saída: [10.5, 20.75]\n",
    "\n",
    "texto = '... \"ean\":\"1234567890123\", \"ean\":\"9876543210987\", ...'\n",
    "print(extrair_valores_por_chave(texto,\"ean\",True))  # Saída: ['1234567890123', '9876543210987']\n"
   ]
  },
  {
   "cell_type": "code",
   "execution_count": 19,
   "metadata": {},
   "outputs": [
    {
     "name": "stdout",
     "output_type": "stream",
     "text": [
      "['Colesterol e Triglicerídeos']\n"
     ]
    }
   ],
   "source": [
    "def extrair_categoria_por_chave(string, chave):\n",
    "    valores = []  # Lista para armazenar os valores encontrados\n",
    "    \n",
    "    # Encontrar a posição da primeira ocorrência da chave\n",
    "    indice_chave = string.find(chave)\n",
    "    # print(indice_chave)\n",
    "    \n",
    "    # Enquanto houver ocorrências da chave\n",
    "    while indice_chave != -1:\n",
    "        # Encontrar o índice do próximo caractere após a ocorrência da chave\n",
    "        indice_inicio_valor = indice_chave + len(chave) + 0\n",
    "        \n",
    "        # Encontrar o índice do próximo caractere que indica o final do valor\n",
    "        indice_fim_valor = string.find('\\\\', indice_inicio_valor)\n",
    "        \n",
    "        # Pegar o valor entre os índices de início e fim\n",
    "        # print(string[indice_inicio_valor-len(chave):indice_fim_valor])\n",
    "        valor = string[indice_inicio_valor:indice_fim_valor]\n",
    "\n",
    "        if len(valor) > 35:\n",
    "            valor = 'Mais Medicamentos'\n",
    "            \n",
    "        valores.append(valor)\n",
    "        \n",
    "        # Encontrar a próxima ocorrência da chave após a posição atual\n",
    "        indice_chave = string.find(chave, indice_fim_valor)\n",
    "            \n",
    "    return valores\n",
    "\n",
    "texto = 'com 30 Cápsulas - Hypera\\\",\\\"productReference\\\":\\\"31270\\\",\\\"linkText\\\":\\\"coledue-10mg-com-30-capsulas---hypera\\\",\\\"brand\\\":\\\"HYPERA\\\",\\\"brandId\\\":5,\\\"link\\\":\\\"\\\\u002Fcoledue-10mg-com-30-capsulas---hypera\\\\u002Fp\\\",\\\"categories\\\":{\\\"type\\\":\\\"json\\\",\\\"json\\\":[\\\"\\\\u002FMedicamentos\\\\u002FColesterol e Triglicerídeos\\\\u002F\\\",\\\"\\\\u002FMedicamentos\\\\u002F\\\"]},\\\"categoryId\\\":\\\"12\\\",\\\"releaseDate\\\":\\\"1709906100000\\\",\\\"priceRange\\\":{\\\"type\\\":\\\"id\\\",\\\"generated\\\":true,\\\"id\\\":\\\"$Product:sp-21093.priceRange\\\",\\\"typename\\\":\\\"ProductPriceRange\\\"},\\\"specificationGroups\\\":[{\\\"type\\\":\\\"id\\\",\\\"generated\\\":true,\\\"id\\\":\\\"Product:sp-21093.specificationGroups.0\\\",\\\"typename\\\":\\\"SpecificationGroup\\\"},{\\\"type\\\":\\\"id\\\",\\\"generated\\\":true,\\\"id\\\":\\\"Product:sp-21093.specificationGroups.1\\\",\\\"typename\\\":\\\"SpecificationGroup\\\"}],\\\"skuSpecifications\\\":[],\\\"productClusters'\n",
    "print(extrair_categoria_por_chave(texto,'\\\"categories\\\":{\\\"type\\\":\\\"json\\\",\\\"json\\\":[\\\"\\\\u002FMedicamentos\\\\u002F'))  # Saída: ['1234567890123', '9876543210987']"
   ]
  },
  {
   "cell_type": "code",
   "execution_count": 20,
   "metadata": {},
   "outputs": [
    {
     "name": "stdout",
     "output_type": "stream",
     "text": [
      "366\n"
     ]
    }
   ],
   "source": [
    "\n",
    "\n",
    "\n",
    "def extrair_quantidade(string):\n",
    "    chave  = \"recordsFiltered\"\n",
    "\n",
    "    # Encontrar a posição da primeira ocorrência da chave\n",
    "    indice_chave = string.find(f'\"{chave}\":')\n",
    "\n",
    "    # Encontrar o índice do próximo caractere após a ocorrência de '\"Price\":'\n",
    "    indice_inicio_valor = indice_chave + len(f'\"{chave}\":')\n",
    "    \n",
    "    # Encontrar o índice do próximo caractere que indica o final do preço\n",
    "    indice_fim_valor = indice_inicio_valor\n",
    "    while string[indice_fim_valor].isdigit() or string[indice_fim_valor] == '.':\n",
    "        indice_fim_valor += 1\n",
    "    \n",
    "    # Pegar o valor entre os índices de início e fim\n",
    "    quantidade = int(string[indice_inicio_valor:indice_fim_valor])\n",
    "                    \n",
    "    return quantidade\n",
    "\n",
    "\n",
    "texto = '... \"recordsFiltered\":366, \"ean\":\"9876543210987\", ...'\n",
    "print(extrair_quantidade(texto))  # Saída: ['1234567890123', '9876543210987']"
   ]
  },
  {
   "cell_type": "code",
   "execution_count": 21,
   "metadata": {},
   "outputs": [
    {
     "name": "stdout",
     "output_type": "stream",
     "text": [
      "Empty DataFrame\n",
      "Columns: [Nome, Preco, Preco Sem Desconto, EAN, SKU, Marca, Categoria]\n",
      "Index: []\n"
     ]
    }
   ],
   "source": [
    "colunas = ['Nome', 'Preco', 'Preco Sem Desconto', 'EAN', 'SKU', 'Marca','Categoria']\n",
    "\n",
    "# Criar DataFrame vazio com as colunas especificadas\n",
    "df = pd.DataFrame(columns=colunas)\n",
    "\n",
    "# Mostrar DataFrame vazio\n",
    "print(df)"
   ]
  },
  {
   "cell_type": "code",
   "execution_count": 22,
   "metadata": {},
   "outputs": [],
   "source": [
    "# Função para processar uma página\n",
    "def processar_pagina(marca, pagina):\n",
    "    url = 'https://www.drogariasminasmais.com.br/medicamentos/'+marca+'?initialMap=c&initialQuery=medicamentos&map=category-1,brand&page=' + str(pagina)\n",
    "\n",
    "    requisicao = requests.get(url)\n",
    "    ean_lista = extrair_valores_por_chave(requisicao.text, \"ean\", True)\n",
    "    sku_lista = extrair_valores_por_chave(requisicao.text, \"productReference\", True)\n",
    "    nome_lista = extrair_valores_por_chave(requisicao.text, \"productName\", True)\n",
    "    preco_lista = extrair_valores_por_chave(requisicao.text, 'Price', False)\n",
    "    precosemdesconto_lista = extrair_valores_por_chave(requisicao.text, 'ListPrice', False)\n",
    "    categoria_lista = extrair_categoria_por_chave(requisicao.text, '\\\"categories\\\":{\\\"type\\\":\\\"json\\\",\\\"json\\\":[\\\"\\\\u002FMedicamentos\\\\u002F')\n",
    "    return ean_lista, sku_lista, nome_lista, preco_lista, precosemdesconto_lista, categoria_lista"
   ]
  },
  {
   "cell_type": "code",
   "execution_count": 23,
   "metadata": {},
   "outputs": [],
   "source": [
    "ean_lista = []\n",
    "sku_lista = []\n",
    "nome_lista = []\n",
    "preco_lista = []\n",
    "precosemdesconto_lista = []\n",
    "marca_lista = []\n",
    "categoria_lista = []"
   ]
  },
  {
   "cell_type": "code",
   "execution_count": 25,
   "metadata": {},
   "outputs": [],
   "source": [
    "executor = ThreadPoolExecutor(max_workers=10)\n",
    "future_to_data = {}\n",
    "\n",
    "for marca in marcas_corr:\n",
    "    url = 'https://www.drogariasminasmais.com.br/medicamentos/'+marca+'?initialMap=c&initialQuery=medicamentos&map=category-1,brand&page=1'\n",
    "\n",
    "    requisicao = requests.get(url)\n",
    "    quantidade = extrair_quantidade(requisicao.text)\n",
    "    marca_lista.extend([marca] * quantidade)\n",
    "\n",
    "    for pagina in range(1, math.ceil(quantidade/15) + 1):\n",
    "        future = executor.submit(processar_pagina, marca, pagina)\n",
    "        future_to_data[future] = (marca, pagina)\n",
    "\n",
    "# Processar os resultados conforme estiverem prontos\n",
    "for future in as_completed(future_to_data):\n",
    "    marca, pagina = future_to_data[future]\n",
    "    result_data = future.result()\n",
    "    ean_lista.extend(result_data[0])\n",
    "    sku_lista.extend(result_data[1])\n",
    "    nome_lista.extend(result_data[2])\n",
    "    preco_lista.extend(result_data[3])\n",
    "    precosemdesconto_lista.extend(result_data[4])\n",
    "    categoria_lista.extend(result_data[5])\n",
    "\n",
    "executor.shutdown()\n",
    "\n"
   ]
  },
  {
   "cell_type": "code",
   "execution_count": 27,
   "metadata": {},
   "outputs": [
    {
     "data": {
      "text/html": [
       "<div>\n",
       "<style scoped>\n",
       "    .dataframe tbody tr th:only-of-type {\n",
       "        vertical-align: middle;\n",
       "    }\n",
       "\n",
       "    .dataframe tbody tr th {\n",
       "        vertical-align: top;\n",
       "    }\n",
       "\n",
       "    .dataframe thead th {\n",
       "        text-align: right;\n",
       "    }\n",
       "</style>\n",
       "<table border=\"1\" class=\"dataframe\">\n",
       "  <thead>\n",
       "    <tr style=\"text-align: right;\">\n",
       "      <th></th>\n",
       "      <th>Nome</th>\n",
       "      <th>Preco</th>\n",
       "      <th>Preco Sem Desconto</th>\n",
       "      <th>EAN</th>\n",
       "      <th>SKU</th>\n",
       "      <th>Marca</th>\n",
       "      <th>Categoria</th>\n",
       "      <th>Desconto</th>\n",
       "    </tr>\n",
       "  </thead>\n",
       "  <tbody>\n",
       "    <tr>\n",
       "      <th>0</th>\n",
       "      <td>Dioless 150mcg + 20mcg com 21 Comprimidos - Su...</td>\n",
       "      <td>33.72</td>\n",
       "      <td>44.33</td>\n",
       "      <td>7899420506253</td>\n",
       "      <td>8811</td>\n",
       "      <td>hypera</td>\n",
       "      <td>Mais Medicamentos</td>\n",
       "      <td>0.24</td>\n",
       "    </tr>\n",
       "    <tr>\n",
       "      <th>1</th>\n",
       "      <td>Zetsim 10\\u002F40mg com 30 Comprimidos - Supera</td>\n",
       "      <td>142.91</td>\n",
       "      <td>177.35</td>\n",
       "      <td>7897337716888</td>\n",
       "      <td>8755</td>\n",
       "      <td>hypera</td>\n",
       "      <td>Mais Medicamentos</td>\n",
       "      <td>0.19</td>\n",
       "    </tr>\n",
       "    <tr>\n",
       "      <th>2</th>\n",
       "      <td>Nimegon Met 50\\u002F1000mg com 56 Comprimidos ...</td>\n",
       "      <td>269.37</td>\n",
       "      <td>316.91</td>\n",
       "      <td>7897572004481</td>\n",
       "      <td>8669</td>\n",
       "      <td>hypera</td>\n",
       "      <td>Mais Medicamentos</td>\n",
       "      <td>0.15</td>\n",
       "    </tr>\n",
       "    <tr>\n",
       "      <th>3</th>\n",
       "      <td>Zetsim 10\\u002F20mg com 30 Comprimidos - Supera</td>\n",
       "      <td>87.18</td>\n",
       "      <td>108.00</td>\n",
       "      <td>7897337716871</td>\n",
       "      <td>8647</td>\n",
       "      <td>hypera</td>\n",
       "      <td>Mais Medicamentos</td>\n",
       "      <td>0.19</td>\n",
       "    </tr>\n",
       "    <tr>\n",
       "      <th>4</th>\n",
       "      <td>Minergi 0,375mg com 30 Comprimidos - Supera</td>\n",
       "      <td>72.36</td>\n",
       "      <td>91.23</td>\n",
       "      <td>7899420504723</td>\n",
       "      <td>8580</td>\n",
       "      <td>hypera</td>\n",
       "      <td>Mais Medicamentos</td>\n",
       "      <td>0.21</td>\n",
       "    </tr>\n",
       "  </tbody>\n",
       "</table>\n",
       "</div>"
      ],
      "text/plain": [
       "                                                Nome   Preco  \\\n",
       "0  Dioless 150mcg + 20mcg com 21 Comprimidos - Su...   33.72   \n",
       "1    Zetsim 10\\u002F40mg com 30 Comprimidos - Supera  142.91   \n",
       "2  Nimegon Met 50\\u002F1000mg com 56 Comprimidos ...  269.37   \n",
       "3    Zetsim 10\\u002F20mg com 30 Comprimidos - Supera   87.18   \n",
       "4        Minergi 0,375mg com 30 Comprimidos - Supera   72.36   \n",
       "\n",
       "   Preco Sem Desconto            EAN   SKU   Marca          Categoria  \\\n",
       "0               44.33  7899420506253  8811  hypera  Mais Medicamentos   \n",
       "1              177.35  7897337716888  8755  hypera  Mais Medicamentos   \n",
       "2              316.91  7897572004481  8669  hypera  Mais Medicamentos   \n",
       "3              108.00  7897337716871  8647  hypera  Mais Medicamentos   \n",
       "4               91.23  7899420504723  8580  hypera  Mais Medicamentos   \n",
       "\n",
       "   Desconto  \n",
       "0      0.24  \n",
       "1      0.19  \n",
       "2      0.15  \n",
       "3      0.19  \n",
       "4      0.21  "
      ]
     },
     "execution_count": 27,
     "metadata": {},
     "output_type": "execute_result"
    }
   ],
   "source": [
    "del marca_lista[:370]\n",
    "\n",
    "df['Nome'] = nome_lista\n",
    "df['Preco'] = preco_lista\n",
    "df['Preco Sem Desconto'] = precosemdesconto_lista\n",
    "df['EAN'] = ean_lista\n",
    "df['SKU'] = sku_lista\n",
    "df['Marca'] = marca_lista\n",
    "df['Categoria'] = categoria_lista\n",
    "df['Desconto'] = round((df['Preco Sem Desconto'] - df['Preco'])/df['Preco Sem Desconto'],2)\n",
    "\n",
    "df.head()"
   ]
  },
  {
   "cell_type": "code",
   "execution_count": null,
   "metadata": {},
   "outputs": [],
   "source": [
    "df.to_excel('Drogaria_Minas_Mais_Excel.xlsx')"
   ]
  }
 ],
 "metadata": {
  "kernelspec": {
   "display_name": "base",
   "language": "python",
   "name": "python3"
  },
  "language_info": {
   "codemirror_mode": {
    "name": "ipython",
    "version": 3
   },
   "file_extension": ".py",
   "mimetype": "text/x-python",
   "name": "python",
   "nbconvert_exporter": "python",
   "pygments_lexer": "ipython3",
   "version": "3.9.12"
  }
 },
 "nbformat": 4,
 "nbformat_minor": 2
}
