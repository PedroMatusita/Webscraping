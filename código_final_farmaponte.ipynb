import requests
from bs4 import BeautifulSoup
import pandas as pd
from concurrent.futures import ThreadPoolExecutor

def fetch_medicamento(url):
    response = requests.get(url)
    if response.status_code == 200:
        return response.text
    else:
        return None

def process_medicamento(medicamento, lista_marcas):
    try:
        nome = medicamento.find("h1", class_="name").text.strip()
    except:
        nome = 'sem'
    try: 
        preco = float(medicamento.find("p", class_="unit-price").text.replace('R$ ', '').replace(',', '.'))
    except: 
        preco = 'sem'
    try:
        ean = medicamento.find(itemprop="gtin13").get('content')
    except:
        ean = 'sem'
    try: 
        desconto = float(medicamento.find("span", class_="discount").find('b').text.replace('%', ''))
    except: 
        desconto = 'sem'
    try:
        preco_desconto = round(preco * (1-desconto/100), 2)
    except:
        preco_desconto = 'sem'
    # Procurar pela marca no HTML
    marca_html = medicamento.find("a", class_="text-primary font-weight-bold")
    if marca_html:
        marca = marca_html.text.strip()
    else:
        # Procurar pela marca no nome do medicamento
        for marca in lista_marcas:
            if marca in nome:
                break
        else:
            marca = None
    return nome, preco, preco_desconto, desconto, ean, marca



def main():
    URLS=[]
    urls_primaria = []
    for i in range(1, 229):
        # URL da página de medicamentos
        urls_primaria.append("https://www.farmaponte.com.br/medicamentos/?p="+str(i))

    with ThreadPoolExecutor(max_workers=10) as executor:
        responses_primaria = list(executor.map(fetch_medicamento, urls_primaria))
        
        for response in responses_primaria:
            # Criar objeto BeautifulSoup
            soup = BeautifulSoup(response, "html.parser")
            # Encontrar os containers dos medicamentos
            medicamentos = soup.find_all("div", class_="item-product")
            # Extrair dados para cada medicamento
            for medicamento in medicamentos:
                nome = medicamento.find("h2", class_="title").text.strip()
                try:
                    preco = medicamento.find("p", class_="pix-price").text.strip()
                except: 
                    preco='sem'
                URL = "https://www.farmaponte.com.br" + medicamento.find("a", class_='item-image').get('href')
                # Imprimir dados
                URLS.append(URL)
                
    print(len(URLS))
    print(URLS[0])

    NOME = []
    PRECO=[]
    PRECO_DESCONTO = []
    DESCONTO = []
    EAN=[]
    MARCA=[]
    lista_marcas = ["1Farma", "ADV Farma", "Abbott do Brasil", "Accord Farma", "Aché",
    "Addera", "Allergan", "Althaia", "Apsen", "Arese Pharma", "Aspen Pharma",
    "Astellas Farma", "Astrazeneca", "Baldacci", "Bausch + Lomb", "Bayer",
    "Besins", "Biolab", "Biolab Genéricos", "Biosintética - Aché", "Blanver S.A.",
    "Blau", "Boehringer Ingelheim", "Boiron", "Brasterápica", "Bravir",
    "Catarinense Pharma", "Cellera Farma", "Centrum", "Chiesi", "Cifarma",
    "Cimed", "Cosmed", "Daiichi-Sankyo", "Diffucap Chemobras", "EMS",
    "EMS Sigma Pharma", "Eli Lilly", "Eurofarma", "Exeltis", "Farmax",
    "Farmoquímica", "FiberMais", "GSK", "Galderma", "Geolab", "Germed Pharma",
    "Glenmark", "Granado Pharmácias", "Gross", "Grünenthal", "Gummy", "Hebron",
    "Herbarium", "Janssen-Cilag", "Kley Hertz Farmacêutica", "Laboratório Cristália",
    "Legrand", "Leo Pharma", "Libbs", "Marjan Farma", "Medley", "Medquímica",
    "Megalabs", "Merck", "Merck Sharp & Dohme", "Momenta Farma", "Multilab", "Mylan",
    "Myralis", "Natulab", "Neo Química", "Nova Química", "Novartis", "Novo Nordisk",
    "Organon", "P&G", "PF Consumer Healthcare", "Pfizer", "Pharlab", "Polinize Florais",
    "Prati-Donaduzzi", "Ranbaxy", "Reckitt Benckiser", "Roche", "Sandoz", "Sanofi",
    "Servier", "Supera", "Takeda", "Teuto", "Theraskin", "Top Beauty", "Torrent",
    "União Química", "Vick", "Vitamedic", "Wyeth/Pfizer", "Zambon", "Zodiac"]  # Adicione suas marcas aqui
    with ThreadPoolExecutor(max_workers=12) as executor:
        responses = list(executor.map(fetch_medicamento, URLS))
        
        for response in responses:
            soup = BeautifulSoup(response, "html.parser")
            medicamentos = soup.find_all("div", class_="content")
            for medicamento in medicamentos:
                nome, preco, preco_desconto, desconto, ean, marca = process_medicamento(medicamento, lista_marcas)
                NOME.append(nome)
                PRECO.append(preco)
                PRECO_DESCONTO.append(preco_desconto)
                DESCONTO.append(desconto)
                EAN.append(ean)
                MARCA.append(marca)

    df = pd.DataFrame()
    df['Nome'] = NOME
    df['Preço sem desconto'] = PRECO
    df['Preço com desconto'] = PRECO_DESCONTO
    df['Desconto (porcentagem)'] = DESCONTO 
    df['Código EAN'] = EAN
    df['Marca'] = MARCA
    print(df)
    df.to_csv('base_farmaponte7.csv')

if __name__ == "__main__":
    main()




lista_marcas = ["1Farma", "ADV Farma", "Abbott do Brasil", "Accord Farma", "Aché",
    "Addera", "Allergan", "Althaia", "Apsen", "Arese Pharma", "Aspen Pharma",
    "Astellas Farma", "Astrazeneca", "Baldacci", "Bausch + Lomb", "Bayer",
    "Besins", "Biolab", "Biolab Genéricos", "Biosintética - Aché", "Blanver S.A.",
    "Blau", "Boehringer Ingelheim", "Boiron", "Brasterápica", "Bravir",
    "Catarinense Pharma", "Cellera Farma", "Centrum", "Chiesi", "Cifarma",
    "Cimed", "Cosmed", "Daiichi-Sankyo", "Diffucap Chemobras", "EMS",
    "EMS Sigma Pharma", "Eli Lilly", "Eurofarma", "Exeltis", "Farmax",
    "Farmoquímica", "FiberMais", "GSK", "Galderma", "Geolab", "Germed Pharma",
    "Glenmark", "Granado Pharmácias", "Gross", "Grünenthal", "Gummy", "Hebron",
    "Herbarium", "Janssen-Cilag", "Kley Hertz Farmacêutica", "Laboratório Cristália",
    "Legrand", "Leo Pharma", "Libbs", "Marjan Farma", "Medley", "Medquímica",
    "Megalabs", "Merck", "Merck Sharp & Dohme", "Momenta Farma", "Multilab", "Mylan",
    "Myralis", "Natulab", "Neo Química", "Nova Química", "Novartis", "Novo Nordisk",
    "Organon", "P&G", "PF Consumer Healthcare", "Pfizer", "Pharlab", "Polinize Florais",
    "Prati-Donaduzzi", "Ranbaxy", "Reckitt Benckiser", "Roche", "Sandoz", "Sanofi",
    "Servier", "Supera", "Takeda", "Teuto", "Theraskin", "Top Beauty", "Torrent",
    "União Química", "Vick", "Vitamedic", "Wyeth/Pfizer", "Zambon", "Zodiac"]






  # Carregar o arquivo CSV como um DataFrame
df_farmaponte = pd.read_csv('base_farmaponte7.csv')

# Exibir as primeiras linhas do DataFrame para verificar se foi carregado corretamente
df_farmaponte.head()


# Alguns medicamentos não retornaram nada na coluna 'Marca' mesmo quando continham o nome parcial da marca na coluna 'Nome', assim foi criada uma função que corrigia isso
def preencher_marca(df, lista_marcas):
  for i, nome in enumerate(df['Nome']):
      if pd.isna(df.at[i, 'Marca']):
          for marca in lista_marcas:
              if any(word.lower() in nome.lower() for word in marca.split()):
                  df.at[i, 'Marca'] = marca
                  break


preencher_marca(df_farmaponte, lista_marcas)


df_farmaponte = df_farmaponte.drop(columns=['Unnamed: 0'])



