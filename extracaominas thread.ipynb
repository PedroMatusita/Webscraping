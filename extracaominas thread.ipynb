{
 "cells": [
  {
   "cell_type": "code",
   "execution_count": 1,
   "metadata": {},
   "outputs": [
    {
     "name": "stdout",
     "output_type": "stream",
     "text": [
      "['hypera', 'ache-rx', 'eurofarma-rx', 'ems-generico', 'sigma-pharma-rx', 'cimed', 'germed-generico', 'libbs', 'apsen', 'biolab-rx', 'supera', 'medley-genericos', 'momenta', 'farmoquimica', 'eurofarma-generico', 'myralis', 'abbott-rx', 'teuto-generico', 'ache-otc', 'sanofi-rx', 'cristalia/latinofarma', 'sanofi-otc', 'prati-donaduzzi-generico', 'torrent', 'legrand-generico', 'biolab-generico', 'uniao-quimica-similar', 'uniao-quimica-genom', 'neo-quimica-generico', 'pharlab', 'neo-quimica-similar', 'nova-quimica-generico', 'geolab-generico', 'gsk-otc', 'novartis-rx', 'marjan', 'zanphy', 'gsk-rx', 'uniao-quimica-generico', 'procter--gambl', 'biolab-avert-otc', 'alcon', 'merck-rx', 'biosintetica-generico', 'servier', 'allergan', 'teuto-similar', 'ems-similar', 'bayer-rx', 'globo-generico', 'cellera', 'astrazeneca', 'sandoz-generico', 'herbarium', 'divcom', 'airela', 'zodiac-adium', 'sankyo-pharma', 'ranbaxy', 'natulab', 'bayer-otc', 'takeda', 'legrand-rx', 'boehringer', 'sigma-pharma-otc', 'hertz-p-2', 'hertz-p-1', 'arese', 'zambon', 'pfizer', 'megalabs', 'aspen', 'massime', 'geolab', 'cifarma', 'viatris', 'biolab-avert-rx', 'lundbeck', 'jj-otc', 'galderma', 'cifarma-similar', 'chiesi---farmalab', 'althaia', 'belfar', 'reckitt-benckiser-rb', 'janssen', 'torrent-generico', 'medquimica', 'medquimica-generico', 'maxinutri', 'm-s-d', 'gross', 'bausch--lomb', 'baldacci', 'pharmascience', 'grunenthal', 'exeltis', 'abv', 'theraskin', 'novo-nordisk', 'biosintetica', 'vitamedic-generico', 'uniao-quimica', 'merck-generico', 'lilly', 'hebron/quesalon', 'gummy', 'delta', 'besins', 'zydus-generico', 'nikkho---zydus', 'multilab', 'leopharma', 'globo', 'eurofarma-otc', 'herbamed', 'diffucap-chemobras', 'catarinense', 'medley-rx', 'cristalia', 'bago', 'abbott-nutricional', 'ucb-biopharma', 'nativita-generico', 'm-s-d-organon', 'hisamitsu', 'astellas', 'roche', 'osorio-de-moraes', 'mundipharma', 'gsk-stiefel', 'farmax', 'weleda', 'valeant', 'prati-donaduzzi', 'boiron', 'waldemiro', 'vitafor', 'unichem', 'perrigo', 'natcofarma', 'moksha8', 'medicaldoctor', 'blau', 'arte-nativa', 'wyeth-rx', 'sandoz-rx', 'organon', 'novartis-generico', 'johnson--johnson-s/a', 'health-labs', 'glenmark', 'biolab-similar', 'vitamedic', 'teva', 'shire', 'nativita-similar', 'imec', 'farmace-generico', 'diversos-similares', 'cifarma-generico', 'caninha', 'bio-soft', 'vila-oliva', 'rioquimica', 'nova-quimica-similar', 'mylan', 'granado', 'glenmark-generico', 'germed-rx', 'genomma', 'farmabraz-beta-atalaia-ltda', 'eli-lilly', 'bunker', 'arovida', 'almaroni', 'a2f', 'vitamed', 'uniphar', 'trb', 'simoes', 'semina', 'sanitall', 'pronatus', 'philips-avente', 'oaz-fresh-care', 'novartis-otc', 'nestle-industrial', 'multilaser', 'minancora', 'melpoejo', 'melora', 'melcon', 'melatz', 'max-titanium', 'marjan-pbm', 'legrand-similar', 'latinofarma', 'laboratorios-ferring', 'gsk-generico', 'griffus', 'global-gummies', 'equaliv', 'dux-nutrition', 'doctor-reddys', 'diversos-perfumaria', 'diversos-medicamentos', 'dermage', 'curatec', 'cheez-it', 'cellera-farma', 'cazi', 'carmen-vitti', 'brasterapica', 'aurobindo', 'aura', 'almeida-prado-ltda', 'abl-brasil', 'abbott', '3b-industria', 'mais-medicamentos', 'vitaminas', 'similar', 'gripe-e-resfriado', 'analgésicos', 'calmantes', 'hipertensão', 'anticoncepcionais', 'anti-inflamatórios', 'fitoterápicos', 'alergias-e-infecções', 'colesterol-e-triglicerídeos', 'digestivo', 'genéricos', 'dor-e-febre', 'diabetes', 'relaxante-muscular', 'gastrite', 'emagrecedores', 'hypera', 'ache-rx', 'eurofarma-rx', 'ems-generico', 'sigma-pharma-rx', 'cimed', 'germed-generico', 'libbs', 'apsen', 'biolab-rx', 'supera', 'medley-genericos', 'momenta', 'farmoquimica', 'eurofarma-generico', 'myralis', 'abbott-rx', 'teuto-generico', 'ache-otc', 'sanofi-rx', 'cristalia/latinofarma', 'sanofi-otc', 'prati-donaduzzi-generico', 'torrent', 'legrand-generico', 'biolab-generico', 'uniao-quimica-similar', 'uniao-quimica-genom', 'neo-quimica-generico', 'pharlab', 'neo-quimica-similar', 'nova-quimica-generico', 'geolab-generico', 'gsk-otc', 'novartis-rx', 'marjan', 'zanphy', 'gsk-rx', 'uniao-quimica-generico', 'procter--gambl', 'biolab-avert-otc', 'alcon', 'merck-rx', 'biosintetica-generico', 'servier', 'allergan', 'teuto-similar', 'ems-similar', 'bayer-rx', 'globo-generico', 'cellera', 'astrazeneca', 'sandoz-generico', 'herbarium', 'divcom', 'airela', 'zodiac-adium', 'sankyo-pharma', 'ranbaxy', 'natulab', 'bayer-otc', 'takeda', 'legrand-rx', 'boehringer', 'sigma-pharma-otc', 'hertz-p-2', 'hertz-p-1', 'arese', 'zambon', 'pfizer', 'megalabs', 'aspen', 'massime', 'geolab', 'cifarma', 'viatris', 'biolab-avert-rx', 'lundbeck', 'jj-otc', 'galderma', 'cifarma-similar', 'chiesi---farmalab', 'althaia', 'belfar', 'reckitt-benckiser-rb', 'janssen', 'torrent-generico', 'medquimica', 'medquimica-generico', 'maxinutri', 'm-s-d', 'gross', 'bausch--lomb', 'baldacci', 'pharmascience', 'grunenthal', 'exeltis', 'abv', 'theraskin', 'novo-nordisk', 'biosintetica', 'vitamedic-generico', 'uniao-quimica', 'merck-generico', 'lilly', 'hebron/quesalon', 'gummy', 'delta', 'besins', 'zydus-generico', 'nikkho---zydus', 'multilab', 'leopharma', 'globo', 'eurofarma-otc', 'herbamed', 'diffucap-chemobras', 'catarinense', 'medley-rx', 'cristalia', 'bago', 'abbott-nutricional', 'ucb-biopharma', 'nativita-generico', 'm-s-d-organon', 'hisamitsu', 'astellas', 'roche', 'osorio-de-moraes', 'mundipharma', 'gsk-stiefel', 'farmax', 'weleda', 'valeant', 'prati-donaduzzi', 'boiron', 'waldemiro', 'vitafor', 'unichem', 'perrigo', 'natcofarma', 'moksha8', 'medicaldoctor', 'blau', 'arte-nativa', 'wyeth-rx', 'sandoz-rx', 'organon', 'novartis-generico', 'johnson--johnson-s/a', 'health-labs', 'glenmark', 'biolab-similar', 'vitamedic', 'teva', 'shire', 'nativita-similar', 'imec', 'farmace-generico', 'diversos-similares', 'cifarma-generico', 'caninha', 'bio-soft', 'vila-oliva', 'rioquimica', 'nova-quimica-similar', 'mylan', 'granado', 'glenmark-generico', 'germed-rx', 'genomma', 'farmabraz-beta-atalaia-ltda', 'eli-lilly', 'bunker', 'arovida', 'almaroni', 'a2f', 'vitamed', 'uniphar', 'trb', 'simoes', 'semina', 'sanitall', 'pronatus', 'philips-avente', 'oaz-fresh-care', 'novartis-otc', 'nestle-industrial', 'multilaser', 'minancora', 'melpoejo', 'melora', 'melcon', 'melatz', 'max-titanium', 'marjan-pbm', 'legrand-similar', 'latinofarma', 'laboratorios-ferring', 'gsk-generico', 'griffus', 'global-gummies', 'equaliv', 'dux-nutrition', 'doctor-reddys', 'diversos-perfumaria', 'diversos-medicamentos', 'dermage', 'curatec', 'cheez-it', 'cellera-farma', 'cazi', 'carmen-vitti', 'brasterapica', 'aurobindo', 'aura', 'almeida-prado-ltda', 'abl-brasil', 'abbott', '3b-industria']\n"
     ]
    }
   ],
   "source": [
    "from selenium import webdriver\n",
    "from selenium.webdriver.common.by import By\n",
    "from selenium.webdriver.support.ui import WebDriverWait\n",
    "from selenium.webdriver.support import expected_conditions as EC\n",
    "import requests\n",
    "from bs4 import BeautifulSoup\n",
    "import pandas as pd\n",
    "import math\n",
    "from concurrent.futures import ThreadPoolExecutor, as_completed\n",
    "\n",
    "# Encontrar todas as marcas\n",
    "url = 'https://www.drogariasminasmais.com.br/medicamentos'\n",
    "response = requests.get(url)\n",
    "soup = BeautifulSoup(response.content, \"html.parser\")\n",
    "\n",
    "marcas = soup.find_all(\"label\", class_=\"vtex-checkbox__label w-100 c-on-base pointer\")\n",
    "marcas_corr = []\n",
    "for marca in marcas:\n",
    "    marcas_corr.append(str(marca).split('>')[1].split('<')[0])\n",
    "for i in range(len(marcas_corr)):\n",
    "    marcas_corr[i] = marcas_corr[i].lower().replace(\" \", '-')\n",
    "marcas_corr = marcas_corr[19:]\n",
    "\n",
    "print(marcas_corr)"
   ]
  },
  {
   "cell_type": "code",
   "execution_count": 2,
   "metadata": {},
   "outputs": [
    {
     "name": "stdout",
     "output_type": "stream",
     "text": [
      "['Produto A', 'Produto B']\n",
      "['123', '45689']\n",
      "[10.5, 20.75]\n",
      "['1234567890123', '9876543210987']\n"
     ]
    }
   ],
   "source": [
    "def extrair_valores_por_chave(string, chave, categorico):\n",
    "    valores = []  # Lista para armazenar os valores encontrados\n",
    "    \n",
    "    # Encontrar a posição da primeira ocorrência da chave\n",
    "    indice_chave = string.find(f'\"{chave}\":')\n",
    "    \n",
    "    if categorico:\n",
    "        # Enquanto houver ocorrências da chave\n",
    "        while indice_chave != -1:\n",
    "            # Encontrar o índice do próximo caractere após a ocorrência da chave\n",
    "            indice_inicio_valor = indice_chave + len(f'\"{chave}\":') + 1\n",
    "            \n",
    "            # Encontrar o índice do próximo caractere que indica o final do valor\n",
    "            indice_fim_valor = string.find('\"', indice_inicio_valor)\n",
    "            \n",
    "            # Pegar o valor entre os índices de início e fim\n",
    "            valor = string[indice_inicio_valor:indice_fim_valor]\n",
    "            valores.append(valor)\n",
    "            \n",
    "            # Encontrar a próxima ocorrência da chave após a posição atual\n",
    "            indice_chave = string.find(f'\"{chave}\":', indice_fim_valor)\n",
    "        \n",
    "    \n",
    "    else:\n",
    "        while indice_chave != -1:\n",
    "                # Encontrar o índice do próximo caractere após a ocorrência de '\"Price\":'\n",
    "                indice_inicio_valor = indice_chave + len(f'\"{chave}\":')\n",
    "                \n",
    "                # Encontrar o índice do próximo caractere que indica o final do preço\n",
    "                indice_fim_valor = indice_inicio_valor\n",
    "                while string[indice_fim_valor].isdigit() or string[indice_fim_valor] == '.':\n",
    "                    indice_fim_valor += 1\n",
    "                \n",
    "                # Pegar o valor entre os índices de início e fim\n",
    "                valor = string[indice_inicio_valor:indice_fim_valor]\n",
    "                valores.append(float(valor))\n",
    "                \n",
    "                # Encontrar a próxima ocorrência de '\"Price\":' após a posição atual\n",
    "                indice_chave = string.find(f'\"{chave}\":', indice_fim_valor)\n",
    "            \n",
    "    return valores\n",
    "\n",
    "# Exemplo de uso\n",
    "texto = '... \"productName\":\"Produto A\", \"productName\":\"Produto B\", ...'\n",
    "chave = \"productName\"\n",
    "print(extrair_valores_por_chave(texto, chave, True))  # Saída: ['Produto A', 'Produto B']\n",
    "\n",
    "texto = '... \"productReference\":\"123\", \"productReference\":\"45689\", ...'\n",
    "chave = \"productReference\"\n",
    "print(extrair_valores_por_chave(texto, chave, True))  # Saída: ['123', '45689']\n",
    "\n",
    "texto = '... \"Price\":10.5, \"Price\":20.75, ...'\n",
    "print(extrair_valores_por_chave(texto,\"Price\", False))  # Saída: [10.5, 20.75]\n",
    "\n",
    "texto = '... \"ean\":\"1234567890123\", \"ean\":\"9876543210987\", ...'\n",
    "print(extrair_valores_por_chave(texto,\"ean\",True))  # Saída: ['1234567890123', '9876543210987']\n"
   ]
  },
  {
   "cell_type": "code",
   "execution_count": 3,
   "metadata": {},
   "outputs": [
    {
     "name": "stdout",
     "output_type": "stream",
     "text": [
      "366\n"
     ]
    }
   ],
   "source": [
    "\n",
    "\n",
    "\n",
    "def extrair_quantidade(string):\n",
    "    chave  = \"recordsFiltered\"\n",
    "\n",
    "    # Encontrar a posição da primeira ocorrência da chave\n",
    "    indice_chave = string.find(f'\"{chave}\":')\n",
    "\n",
    "    # Encontrar o índice do próximo caractere após a ocorrência de '\"Price\":'\n",
    "    indice_inicio_valor = indice_chave + len(f'\"{chave}\":')\n",
    "    \n",
    "    # Encontrar o índice do próximo caractere que indica o final do preço\n",
    "    indice_fim_valor = indice_inicio_valor\n",
    "    while string[indice_fim_valor].isdigit() or string[indice_fim_valor] == '.':\n",
    "        indice_fim_valor += 1\n",
    "    \n",
    "    # Pegar o valor entre os índices de início e fim\n",
    "    quantidade = int(string[indice_inicio_valor:indice_fim_valor])\n",
    "                    \n",
    "    return quantidade\n",
    "\n",
    "\n",
    "texto = '... \"recordsFiltered\":366, \"ean\":\"9876543210987\", ...'\n",
    "print(extrair_quantidade(texto))  # Saída: ['1234567890123', '9876543210987']"
   ]
  },
  {
   "cell_type": "code",
   "execution_count": 4,
   "metadata": {},
   "outputs": [
    {
     "name": "stdout",
     "output_type": "stream",
     "text": [
      "Empty DataFrame\n",
      "Columns: [Nome, Preco, Preco Sem Desconto, EAN, SKU, Marca]\n",
      "Index: []\n"
     ]
    }
   ],
   "source": [
    "colunas = ['Nome', 'Preco', 'Preco Sem Desconto', 'EAN', 'SKU', 'Marca']\n",
    "\n",
    "# Criar DataFrame vazio com as colunas especificadas\n",
    "df = pd.DataFrame(columns=colunas)\n",
    "\n",
    "# Mostrar DataFrame vazio\n",
    "print(df)"
   ]
  },
  {
   "cell_type": "code",
   "execution_count": 5,
   "metadata": {},
   "outputs": [],
   "source": [
    "# Função para processar uma página\n",
    "def processar_pagina(marca, pagina):\n",
    "    url = 'https://www.drogariasminasmais.com.br/medicamentos/'+marca+'?initialMap=c&initialQuery=medicamentos&map=category-1,brand&page=' + str(pagina)\n",
    "    requisicao = requests.get(url)\n",
    "    ean_lista = extrair_valores_por_chave(requisicao.text, \"ean\", True)\n",
    "    sku_lista = extrair_valores_por_chave(requisicao.text, \"productReference\", True)\n",
    "    nome_lista = extrair_valores_por_chave(requisicao.text, \"productName\", True)\n",
    "    preco_lista = extrair_valores_por_chave(requisicao.text, 'Price', False)\n",
    "    precosemdesconto_lista = extrair_valores_por_chave(requisicao.text, 'ListPrice', False)\n",
    "    return ean_lista, sku_lista, nome_lista, preco_lista, precosemdesconto_lista"
   ]
  },
  {
   "cell_type": "code",
   "execution_count": 6,
   "metadata": {},
   "outputs": [],
   "source": [
    "ean_lista = []\n",
    "sku_lista = []\n",
    "nome_lista = []\n",
    "preco_lista = []\n",
    "precosemdesconto_lista = []\n",
    "marca_lista = []"
   ]
  },
  {
   "cell_type": "code",
   "execution_count": 8,
   "metadata": {},
   "outputs": [],
   "source": [
    "executor = ThreadPoolExecutor(max_workers=8)  # 5 threads\n",
    "future_to_data = {}\n",
    "\n",
    "for marca in marcas_corr:\n",
    "    url = 'https://www.drogariasminasmais.com.br/medicamentos/'+marca+'?initialMap=c&initialQuery=medicamentos&map=category-1,brand&page=1'\n",
    "\n",
    "    requisicao = requests.get(url)\n",
    "    quantidade = extrair_quantidade(requisicao.text)\n",
    "    marca_lista.extend([marca] * quantidade)\n",
    "\n",
    "    for pagina in range(1, math.ceil(quantidade/15) + 1):\n",
    "        future = executor.submit(processar_pagina, marca, pagina)\n",
    "        future_to_data[future] = (marca, pagina)\n",
    "\n",
    "# Processar os resultados conforme estiverem prontos\n",
    "for future in as_completed(future_to_data):\n",
    "    marca, pagina = future_to_data[future]\n",
    "    result_data = future.result()\n",
    "    ean_lista.extend(result_data[0])\n",
    "    sku_lista.extend(result_data[1])\n",
    "    nome_lista.extend(result_data[2])\n",
    "    preco_lista.extend(result_data[3])\n",
    "    precosemdesconto_lista.extend(result_data[4])\n",
    "\n",
    "executor.shutdown()\n",
    "\n"
   ]
  },
  {
   "cell_type": "code",
   "execution_count": 9,
   "metadata": {},
   "outputs": [
    {
     "ename": "ValueError",
     "evalue": "Length of values (21908) does not match length of index (21895)",
     "output_type": "error",
     "traceback": [
      "\u001b[1;31m---------------------------------------------------------------------------\u001b[0m",
      "\u001b[1;31mValueError\u001b[0m                                Traceback (most recent call last)",
      "Input \u001b[1;32mIn [9]\u001b[0m, in \u001b[0;36m<cell line: 6>\u001b[1;34m()\u001b[0m\n\u001b[0;32m      4\u001b[0m df[\u001b[38;5;124m'\u001b[39m\u001b[38;5;124mEAN\u001b[39m\u001b[38;5;124m'\u001b[39m] \u001b[38;5;241m=\u001b[39m ean_lista\n\u001b[0;32m      5\u001b[0m df[\u001b[38;5;124m'\u001b[39m\u001b[38;5;124mSKU\u001b[39m\u001b[38;5;124m'\u001b[39m] \u001b[38;5;241m=\u001b[39m sku_lista\n\u001b[1;32m----> 6\u001b[0m df[\u001b[38;5;124m'\u001b[39m\u001b[38;5;124mMarca\u001b[39m\u001b[38;5;124m'\u001b[39m] \u001b[38;5;241m=\u001b[39m marca_lista\n\u001b[0;32m      8\u001b[0m df\n",
      "File \u001b[1;32mc:\\Users\\matus\\anaconda3\\lib\\site-packages\\pandas\\core\\frame.py:3655\u001b[0m, in \u001b[0;36mDataFrame.__setitem__\u001b[1;34m(self, key, value)\u001b[0m\n\u001b[0;32m   3652\u001b[0m     \u001b[38;5;28mself\u001b[39m\u001b[38;5;241m.\u001b[39m_setitem_array([key], value)\n\u001b[0;32m   3653\u001b[0m \u001b[38;5;28;01melse\u001b[39;00m:\n\u001b[0;32m   3654\u001b[0m     \u001b[38;5;66;03m# set column\u001b[39;00m\n\u001b[1;32m-> 3655\u001b[0m     \u001b[38;5;28;43mself\u001b[39;49m\u001b[38;5;241;43m.\u001b[39;49m\u001b[43m_set_item\u001b[49m\u001b[43m(\u001b[49m\u001b[43mkey\u001b[49m\u001b[43m,\u001b[49m\u001b[43m \u001b[49m\u001b[43mvalue\u001b[49m\u001b[43m)\u001b[49m\n",
      "File \u001b[1;32mc:\\Users\\matus\\anaconda3\\lib\\site-packages\\pandas\\core\\frame.py:3832\u001b[0m, in \u001b[0;36mDataFrame._set_item\u001b[1;34m(self, key, value)\u001b[0m\n\u001b[0;32m   3822\u001b[0m \u001b[38;5;28;01mdef\u001b[39;00m \u001b[38;5;21m_set_item\u001b[39m(\u001b[38;5;28mself\u001b[39m, key, value) \u001b[38;5;241m-\u001b[39m\u001b[38;5;241m>\u001b[39m \u001b[38;5;28;01mNone\u001b[39;00m:\n\u001b[0;32m   3823\u001b[0m     \u001b[38;5;124;03m\"\"\"\u001b[39;00m\n\u001b[0;32m   3824\u001b[0m \u001b[38;5;124;03m    Add series to DataFrame in specified column.\u001b[39;00m\n\u001b[0;32m   3825\u001b[0m \n\u001b[1;32m   (...)\u001b[0m\n\u001b[0;32m   3830\u001b[0m \u001b[38;5;124;03m    ensure homogeneity.\u001b[39;00m\n\u001b[0;32m   3831\u001b[0m \u001b[38;5;124;03m    \"\"\"\u001b[39;00m\n\u001b[1;32m-> 3832\u001b[0m     value \u001b[38;5;241m=\u001b[39m \u001b[38;5;28;43mself\u001b[39;49m\u001b[38;5;241;43m.\u001b[39;49m\u001b[43m_sanitize_column\u001b[49m\u001b[43m(\u001b[49m\u001b[43mvalue\u001b[49m\u001b[43m)\u001b[49m\n\u001b[0;32m   3834\u001b[0m     \u001b[38;5;28;01mif\u001b[39;00m (\n\u001b[0;32m   3835\u001b[0m         key \u001b[38;5;129;01min\u001b[39;00m \u001b[38;5;28mself\u001b[39m\u001b[38;5;241m.\u001b[39mcolumns\n\u001b[0;32m   3836\u001b[0m         \u001b[38;5;129;01mand\u001b[39;00m value\u001b[38;5;241m.\u001b[39mndim \u001b[38;5;241m==\u001b[39m \u001b[38;5;241m1\u001b[39m\n\u001b[0;32m   3837\u001b[0m         \u001b[38;5;129;01mand\u001b[39;00m \u001b[38;5;129;01mnot\u001b[39;00m is_extension_array_dtype(value)\n\u001b[0;32m   3838\u001b[0m     ):\n\u001b[0;32m   3839\u001b[0m         \u001b[38;5;66;03m# broadcast across multiple columns if necessary\u001b[39;00m\n\u001b[0;32m   3840\u001b[0m         \u001b[38;5;28;01mif\u001b[39;00m \u001b[38;5;129;01mnot\u001b[39;00m \u001b[38;5;28mself\u001b[39m\u001b[38;5;241m.\u001b[39mcolumns\u001b[38;5;241m.\u001b[39mis_unique \u001b[38;5;129;01mor\u001b[39;00m \u001b[38;5;28misinstance\u001b[39m(\u001b[38;5;28mself\u001b[39m\u001b[38;5;241m.\u001b[39mcolumns, MultiIndex):\n",
      "File \u001b[1;32mc:\\Users\\matus\\anaconda3\\lib\\site-packages\\pandas\\core\\frame.py:4535\u001b[0m, in \u001b[0;36mDataFrame._sanitize_column\u001b[1;34m(self, value)\u001b[0m\n\u001b[0;32m   4532\u001b[0m     \u001b[38;5;28;01mreturn\u001b[39;00m _reindex_for_setitem(value, \u001b[38;5;28mself\u001b[39m\u001b[38;5;241m.\u001b[39mindex)\n\u001b[0;32m   4534\u001b[0m \u001b[38;5;28;01mif\u001b[39;00m is_list_like(value):\n\u001b[1;32m-> 4535\u001b[0m     \u001b[43mcom\u001b[49m\u001b[38;5;241;43m.\u001b[39;49m\u001b[43mrequire_length_match\u001b[49m\u001b[43m(\u001b[49m\u001b[43mvalue\u001b[49m\u001b[43m,\u001b[49m\u001b[43m \u001b[49m\u001b[38;5;28;43mself\u001b[39;49m\u001b[38;5;241;43m.\u001b[39;49m\u001b[43mindex\u001b[49m\u001b[43m)\u001b[49m\n\u001b[0;32m   4536\u001b[0m \u001b[38;5;28;01mreturn\u001b[39;00m sanitize_array(value, \u001b[38;5;28mself\u001b[39m\u001b[38;5;241m.\u001b[39mindex, copy\u001b[38;5;241m=\u001b[39m\u001b[38;5;28;01mTrue\u001b[39;00m, allow_2d\u001b[38;5;241m=\u001b[39m\u001b[38;5;28;01mTrue\u001b[39;00m)\n",
      "File \u001b[1;32mc:\\Users\\matus\\anaconda3\\lib\\site-packages\\pandas\\core\\common.py:557\u001b[0m, in \u001b[0;36mrequire_length_match\u001b[1;34m(data, index)\u001b[0m\n\u001b[0;32m    553\u001b[0m \u001b[38;5;124;03m\"\"\"\u001b[39;00m\n\u001b[0;32m    554\u001b[0m \u001b[38;5;124;03mCheck the length of data matches the length of the index.\u001b[39;00m\n\u001b[0;32m    555\u001b[0m \u001b[38;5;124;03m\"\"\"\u001b[39;00m\n\u001b[0;32m    556\u001b[0m \u001b[38;5;28;01mif\u001b[39;00m \u001b[38;5;28mlen\u001b[39m(data) \u001b[38;5;241m!=\u001b[39m \u001b[38;5;28mlen\u001b[39m(index):\n\u001b[1;32m--> 557\u001b[0m     \u001b[38;5;28;01mraise\u001b[39;00m \u001b[38;5;167;01mValueError\u001b[39;00m(\n\u001b[0;32m    558\u001b[0m         \u001b[38;5;124m\"\u001b[39m\u001b[38;5;124mLength of values \u001b[39m\u001b[38;5;124m\"\u001b[39m\n\u001b[0;32m    559\u001b[0m         \u001b[38;5;124mf\u001b[39m\u001b[38;5;124m\"\u001b[39m\u001b[38;5;124m(\u001b[39m\u001b[38;5;132;01m{\u001b[39;00m\u001b[38;5;28mlen\u001b[39m(data)\u001b[38;5;132;01m}\u001b[39;00m\u001b[38;5;124m) \u001b[39m\u001b[38;5;124m\"\u001b[39m\n\u001b[0;32m    560\u001b[0m         \u001b[38;5;124m\"\u001b[39m\u001b[38;5;124mdoes not match length of index \u001b[39m\u001b[38;5;124m\"\u001b[39m\n\u001b[0;32m    561\u001b[0m         \u001b[38;5;124mf\u001b[39m\u001b[38;5;124m\"\u001b[39m\u001b[38;5;124m(\u001b[39m\u001b[38;5;132;01m{\u001b[39;00m\u001b[38;5;28mlen\u001b[39m(index)\u001b[38;5;132;01m}\u001b[39;00m\u001b[38;5;124m)\u001b[39m\u001b[38;5;124m\"\u001b[39m\n\u001b[0;32m    562\u001b[0m     )\n",
      "\u001b[1;31mValueError\u001b[0m: Length of values (21908) does not match length of index (21895)"
     ]
    }
   ],
   "source": [
    "df['Nome'] = nome_lista\n",
    "df['Preco'] = preco_lista\n",
    "df['Preco Sem Desconto'] = precosemdesconto_lista\n",
    "df['EAN'] = ean_lista\n",
    "df['SKU'] = sku_lista\n",
    "df['Marca'] = marca_lista\n",
    "\n",
    "df"
   ]
  }
 ],
 "metadata": {
  "kernelspec": {
   "display_name": "base",
   "language": "python",
   "name": "python3"
  },
  "language_info": {
   "codemirror_mode": {
    "name": "ipython",
    "version": 3
   },
   "file_extension": ".py",
   "mimetype": "text/x-python",
   "name": "python",
   "nbconvert_exporter": "python",
   "pygments_lexer": "ipython3",
   "version": "3.9.12"
  }
 },
 "nbformat": 4,
 "nbformat_minor": 2
}
